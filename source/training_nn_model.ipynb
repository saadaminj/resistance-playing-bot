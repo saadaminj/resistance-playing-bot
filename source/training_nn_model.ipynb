{
 "cells": [
  {
   "cell_type": "code",
   "execution_count": null,
   "id": "69d9e249",
   "metadata": {},
   "outputs": [],
   "source": [
    "import pandas as pd\n",
    "import pandas as pd\n",
    "import keras\n",
    "from tensorflow.keras.models import Sequential\n",
    "from tensorflow.keras.layers import Dense\n",
    "from scikeras.wrappers import KerasClassifier\n",
    "from sklearn.model_selection import cross_val_score\n",
    "from sklearn.preprocessing import LabelEncoder\n",
    "from sklearn.model_selection import StratifiedKFold\n",
    "from sklearn.preprocessing import StandardScaler\n",
    "from sklearn.pipeline import Pipeline"
   ]
  },
  {
   "cell_type": "code",
   "execution_count": null,
   "id": "24238f52",
   "metadata": {},
   "outputs": [],
   "source": [
    "path_of_data = 'data.log' "
   ]
  },
  {
   "cell_type": "code",
   "execution_count": null,
   "id": "d7aaf769",
   "metadata": {},
   "outputs": [],
   "source": [
    "with open(path_of_data) as f:\n",
    "    lines = f.readlines()"
   ]
  },
  {
   "cell_type": "code",
   "execution_count": null,
   "id": "ad74c4dd",
   "metadata": {},
   "outputs": [],
   "source": [
    "data = []\n",
    "index = 0\n",
    "names = []\n",
    "for i in lines:\n",
    "    split = i.split(',')[3:]\n",
    "    data.append({})\n",
    "#     data[index]['name'] = split[0]\n",
    "#     names.append(split[0])\n",
    "    data[index]['missions'] = int(split[1])\n",
    "    data[index]['failed_missions'] = int(split[2])\n",
    "    data[index]['num_missions_voted_up_with_total_suspect_count'] =  [int(x) for x in split[3:9]]\n",
    "    data[index]['num_missions_voted_down_with_total_suspect_count'] = [int(x) for x in split[9:15]]\n",
    "    data[index]['spy'] = int(split[15][0])\n",
    "    index = index + 1"
   ]
  },
  {
   "cell_type": "code",
   "execution_count": null,
   "id": "77f34f1e",
   "metadata": {},
   "outputs": [],
   "source": [
    "df = pd.DataFrame.from_dict(data)\n",
    "\n",
    "df[['up_0', 'up_1','up_2', 'up_3','up_4', 'up_5']] = pd.DataFrame(df[\"num_missions_voted_up_with_total_suspect_count\"].to_list(), columns=['up_0', 'up_1','up_2', 'up_3','up_4', 'up_5'])\n",
    "\n",
    "df[['down_0', 'down_1','down_2', 'down_3','down_4', 'down_5']] = pd.DataFrame(df[\"num_missions_voted_down_with_total_suspect_count\"].to_list(), columns=['down_0', 'down_1','down_2', 'down_3','down_4', 'down_5'])\n",
    "\n",
    "df = df.drop('num_missions_voted_down_with_total_suspect_count', axis=1)\n",
    "df = df.drop('num_missions_voted_up_with_total_suspect_count', axis=1)\n",
    "\n",
    "result = df['spy']\n",
    "\n",
    "df = df.drop('spy',axis = 1)"
   ]
  },
  {
   "cell_type": "code",
   "execution_count": null,
   "id": "8eac99dd",
   "metadata": {},
   "outputs": [],
   "source": [
    "df"
   ]
  },
  {
   "cell_type": "code",
   "execution_count": null,
   "id": "36034f8e",
   "metadata": {},
   "outputs": [],
   "source": [
    "df = (df - df.min()) / df.max() - df.min() # normalize the data"
   ]
  },
  {
   "cell_type": "code",
   "execution_count": null,
   "id": "09e73ede",
   "metadata": {},
   "outputs": [],
   "source": [
    "# create model\n",
    "from keras.models import model_from_json\n",
    "\n",
    "# Fit the model\n",
    "model = Sequential()\n",
    "model.add(Dense(512, input_dim=14, activation='relu'))\n",
    "model.add(Dense(1024, activation='relu'))\n",
    "model.add(Dense(512, activation='relu'))\n",
    "model.add(Dense(1, activation='sigmoid'))\n",
    "model.compile(loss='binary_crossentropy', optimizer='adam', metrics=['accuracy'])\n",
    "model.fit(df, result, epochs=1000, batch_size=32)\n",
    "\n",
    "scores = model.evaluate(df, result, verbose=0)\n",
    "print(\"%s: %.2f%%\" % (model.metrics_names[1], scores[1]*100))\n"
   ]
  },
  {
   "cell_type": "code",
   "execution_count": null,
   "id": "d3049ff3",
   "metadata": {},
   "outputs": [],
   "source": [
    "scores = model.evaluate(df, result, verbose=0)\n",
    "print(\"%s: %.2f%%\" % (model.metrics_names[1], scores[1]*100))\n",
    "\n",
    "# serialize model to JSON\n",
    "model_json = model.to_json()\n",
    "with open(\"resistance_nn_model_improved.json\", \"w\") as json_file:\n",
    "    json_file.write(model_json)\n",
    "# serialize weights to HDF5\n",
    "model.save_weights(\"resistance_nn_model_improved.h5\")\n",
    "print(\"Saved model to disk\")"
   ]
  }
 ],
 "metadata": {
  "kernelspec": {
   "display_name": "Python 3 (ipykernel)",
   "language": "python",
   "name": "python3"
  },
  "language_info": {
   "codemirror_mode": {
    "name": "ipython",
    "version": 3
   },
   "file_extension": ".py",
   "mimetype": "text/x-python",
   "name": "python",
   "nbconvert_exporter": "python",
   "pygments_lexer": "ipython3",
   "version": "3.9.13"
  }
 },
 "nbformat": 4,
 "nbformat_minor": 5
}
